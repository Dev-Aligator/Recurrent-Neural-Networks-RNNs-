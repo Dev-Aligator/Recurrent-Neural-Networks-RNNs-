{
 "cells": [
  {
   "cell_type": "code",
   "execution_count": 1,
   "id": "2f3fae99-842b-4ca8-85ad-234c1a246488",
   "metadata": {},
   "outputs": [],
   "source": [
    "#import pandas as pd\n",
    "#import numpy as np\n",
    "#import tensorflow as tf\n",
    "#from tensorflow.keras.callbacks import Callback\n",
    "#from tensorflow.keras.layers import Dense, Input, Flatten\n",
    "#from tensorflow.keras import Sequential\n",
    "#from tensorflow.keras.initializers import RandomNormal, RandomUniform\n",
    "#import matplotlib.pyplot as plt\n",
    "#from sklearn.datasets import make_circles, make_moons\n",
    "#from sklearn.metrics import accuracy_score\n",
    "#import tensorflow.keras.backend as K\n",
    "#import tensorflow.keras as keras\n",
    "#from collections import Counter\n",
    "#from tensorflow.keras.utils import to_categorical\n",
    "#from tensorflow.keras.layers import Dense, Input, Flatten, concatenate, Dropout, Lambda, BatchNormalization\n",
    "#from sklearn.preprocessing import StandardScaler\n",
    "#from tensorflow.keras.layers import InputLayer\n",
    "#from tensorflow.keras.metrics import Accuracy \n",
    "\n",
    "#from sklearn.preprocessing import LabelEncoder\n",
    "#from sklearn.model_selection import train_test_split"
   ]
  },
  {
   "cell_type": "code",
   "execution_count": 2,
   "id": "792b3038-99d9-499d-9b02-6adf378755c9",
   "metadata": {},
   "outputs": [
    {
     "name": "stderr",
     "output_type": "stream",
     "text": [
      "/tmp/ipykernel_35743/2768557309.py:3: NeptuneDeprecationWarning: `init` is deprecated, use `init_run` instead. We'll end support of it in `neptune-client==1.0.0`.\n",
      "  project = neptune.init(api_token=\"eyJhcGlfYWRkcmVzcyI6Imh0dHBzOi8vYXBwLm5lcHR1bmUuYWkiLCJhcGlfdXJsIjoiaHR0cHM6Ly9hcHAubmVwdHVuZS5haSIsImFwaV9rZXkiOiIzOTM1NWZiMC05OTkwLTRlNmQtOTcxMi05ODc5NWIwZGRiMTkifQ==\",\n"
     ]
    },
    {
     "name": "stdout",
     "output_type": "stream",
     "text": [
      "https://app.neptune.ai/aligator/RNN/e/RNN-9\n"
     ]
    },
    {
     "name": "stderr",
     "output_type": "stream",
     "text": [
      "Info (NVML): NVML Shared Library Not Found. GPU usage metrics may not be reported. For more information, see https://docs.neptune.ai/help/nvml_error/\n"
     ]
    },
    {
     "name": "stdout",
     "output_type": "stream",
     "text": [
      "Remember to stop your run once you’ve finished logging your metadata (https://docs.neptune.ai/api/run#stop). It will be stopped automatically only when the notebook kernel/interactive console is terminated.\n",
      "Shutting down background jobs, please wait a moment...\n",
      "Done!\n",
      "Waiting for the remaining 9 operations to synchronize with Neptune. Do not kill this process.\n",
      "All 9 operations synced, thanks for waiting!\n",
      "Explore the metadata in the Neptune app:\n",
      "https://app.neptune.ai/aligator/RNN/e/RNN-9\n"
     ]
    }
   ],
   "source": [
    "import neptune.new as neptune\n",
    "myProject = 'aligator/RNN'\n",
    "project = neptune.init(api_token=\"eyJhcGlfYWRkcmVzcyI6Imh0dHBzOi8vYXBwLm5lcHR1bmUuYWkiLCJhcGlfdXJsIjoiaHR0cHM6Ly9hcHAubmVwdHVuZS5haSIsImFwaV9rZXkiOiIzOTM1NWZiMC05OTkwLTRlNmQtOTcxMi05ODc5NWIwZGRiMTkifQ==\",\n",
    "                        project=myProject) \n",
    "project.stop()\n"
   ]
  },
  {
   "cell_type": "code",
   "execution_count": 3,
   "id": "f2084e3c-acb0-4de0-bee1-d3f6ebc60113",
   "metadata": {},
   "outputs": [
    {
     "name": "stderr",
     "output_type": "stream",
     "text": [
      "2022-12-24 03:30:33.619395: I tensorflow/core/platform/cpu_feature_guard.cc:193] This TensorFlow binary is optimized with oneAPI Deep Neural Network Library (oneDNN) to use the following CPU instructions in performance-critical operations:  AVX2 AVX512F AVX512_VNNI FMA\n",
      "To enable them in other operations, rebuild TensorFlow with the appropriate compiler flags.\n",
      "2022-12-24 03:30:33.749962: I tensorflow/core/util/port.cc:104] oneDNN custom operations are on. You may see slightly different numerical results due to floating-point round-off errors from different computation orders. To turn them off, set the environment variable `TF_ENABLE_ONEDNN_OPTS=0`.\n",
      "2022-12-24 03:30:33.755663: W tensorflow/compiler/xla/stream_executor/platform/default/dso_loader.cc:64] Could not load dynamic library 'libcudart.so.11.0'; dlerror: libcudart.so.11.0: cannot open shared object file: No such file or directory\n",
      "2022-12-24 03:30:33.755678: I tensorflow/compiler/xla/stream_executor/cuda/cudart_stub.cc:29] Ignore above cudart dlerror if you do not have a GPU set up on your machine.\n",
      "2022-12-24 03:30:34.483336: W tensorflow/compiler/xla/stream_executor/platform/default/dso_loader.cc:64] Could not load dynamic library 'libnvinfer.so.7'; dlerror: libnvinfer.so.7: cannot open shared object file: No such file or directory\n",
      "2022-12-24 03:30:34.483400: W tensorflow/compiler/xla/stream_executor/platform/default/dso_loader.cc:64] Could not load dynamic library 'libnvinfer_plugin.so.7'; dlerror: libnvinfer_plugin.so.7: cannot open shared object file: No such file or directory\n",
      "2022-12-24 03:30:34.483404: W tensorflow/compiler/tf2tensorrt/utils/py_utils.cc:38] TF-TRT Warning: Cannot dlopen some TensorRT libraries. If you would like to use Nvidia GPU with TensorRT, please make sure the missing libraries mentioned above are installed properly.\n"
     ]
    }
   ],
   "source": [
    "\n",
    "import numpy as np\n",
    "import pandas as pd\n",
    "import matplotlib.pyplot as plt\n",
    "import tensorflow as tf\n",
    "\n",
    "from tensorflow.keras.layers import LSTM, GRU, SimpleRNN\n",
    "from tensorflow.keras.layers import Dense, Dropout, Activation, Flatten\n",
    "from tensorflow.keras.datasets import imdb\n",
    "from tensorflow.keras.datasets import mnist\n",
    "from tensorflow.keras.preprocessing import sequence\n",
    "from tensorflow.keras.models import Sequential\n",
    "from tensorflow.keras.layers import Embedding\n",
    "from tensorflow.keras.optimizers import Adam"
   ]
  },
  {
   "cell_type": "code",
   "execution_count": 4,
   "id": "17a37ffb-9307-46cf-b75a-43b93ede2cbd",
   "metadata": {},
   "outputs": [
    {
     "name": "stdout",
     "output_type": "stream",
     "text": [
      "Loading data...\n",
      "25000 train sequences\n",
      "25000 test sequences\n",
      "Example:\n",
      "[list([1, 14, 22, 16, 43, 530, 973, 1622, 1385, 65, 458, 4468, 66, 3941, 4, 173, 36, 256, 5, 25, 100, 43, 838, 112, 50, 670, 2, 9, 35, 480, 284, 5, 150, 4, 172, 112, 167, 2, 336, 385, 39, 4, 172, 4536, 1111, 17, 546, 38, 13, 447, 4, 192, 50, 16, 6, 147, 2025, 19, 14, 22, 4, 1920, 4613, 469, 4, 22, 71, 87, 12, 16, 43, 530, 38, 76, 15, 13, 1247, 4, 22, 17, 515, 17, 12, 16, 626, 18, 19193, 5, 62, 386, 12, 8, 316, 8, 106, 5, 4, 2223, 5244, 16, 480, 66, 3785, 33, 4, 130, 12, 16, 38, 619, 5, 25, 124, 51, 36, 135, 48, 25, 1415, 33, 6, 22, 12, 215, 28, 77, 52, 5, 14, 407, 16, 82, 10311, 8, 4, 107, 117, 5952, 15, 256, 4, 2, 7, 3766, 5, 723, 36, 71, 43, 530, 476, 26, 400, 317, 46, 7, 4, 12118, 1029, 13, 104, 88, 4, 381, 15, 297, 98, 32, 2071, 56, 26, 141, 6, 194, 7486, 18, 4, 226, 22, 21, 134, 476, 26, 480, 5, 144, 30, 5535, 18, 51, 36, 28, 224, 92, 25, 104, 4, 226, 65, 16, 38, 1334, 88, 12, 16, 283, 5, 16, 4472, 113, 103, 32, 15, 16, 5345, 19, 178, 32])]\n",
      "Pad sequences (samples x time)\n",
      "X_train shape: (25000, 100)\n",
      "X_test shape: (25000, 100)\n"
     ]
    }
   ],
   "source": [
    "\n",
    "\n",
    "max_features = 20000\n",
    "maxlen = 100  # cut texts after this number of words (among top max_features most common words)\n",
    "batch_size = 32\n",
    "\n",
    "print(\"Loading data...\")\n",
    "(X_train, y_train), (X_test, y_test) = imdb.load_data(num_words=max_features)\n",
    "print(len(X_train), 'train sequences')\n",
    "print(len(X_test), 'test sequences')\n",
    "\n",
    "print('Example:')\n",
    "print(X_train[:1])\n",
    "\n",
    "print(\"Pad sequences (samples x time)\")\n",
    "X_train = sequence.pad_sequences(X_train, maxlen=maxlen)\n",
    "X_test = sequence.pad_sequences(X_test, maxlen=maxlen)\n",
    "print('X_train shape:', X_train.shape)\n",
    "print('X_test shape:', X_test.shape)\n",
    "\n"
   ]
  },
  {
   "cell_type": "code",
   "execution_count": 5,
   "id": "81250d0f-4291-46b1-8394-4cf1688f6946",
   "metadata": {},
   "outputs": [],
   "source": [
    "def getBatchGradWgts(grads, wgts, lossVal, \n",
    "                      gradHist, lossHist, wgtsHist, \n",
    "                      recordWeight=True, npt_exp=None):\n",
    "    dataGrad, dataWeight = {}, {}\n",
    "    \n",
    "    for wgt, grad in zip(wgts, grads):\n",
    "        if '/kernel:' not in wgt.name:\n",
    "            continue \n",
    "        layerName = wgt.name.split(\"/\")[0]         \n",
    "        dataGrad[layerName] = grad.numpy()\n",
    "        dataWeight[layerName] = wgt.numpy()\n",
    "        ## Log in Neptune\n",
    "        if npt_exp:\n",
    "            npt_exp[f'MeanGrads{layerName.upper()}'].log(np.mean(grad.numpy()))   \n",
    "            npt_exp[f'MeanWgtBatch{layerName.upper()}'].log(np.mean(wgt.numpy()))         \n",
    "        \n",
    "    gradHist.append(dataGrad)\n",
    "    lossHist.append(lossVal.numpy())\n",
    "    if recordWeight:\n",
    "        wgtsHist.append(dataWeight)           \n",
    "                \n",
    "                \n",
    "def fitModel(X, y, model, optimizer, \n",
    "              n_epochs=1, curBatch_size=batch_size,\n",
    "              npt_exp=None):\n",
    "    \n",
    "    lossFunc = tf.keras.losses.BinaryCrossentropy()\n",
    "    #lossFunc = tf.keras.losses.MeanSquaredError()\n",
    "        \n",
    "    subData = tf.data.Dataset.from_tensor_slices((X, y))\n",
    "    subData = subData.shuffle(buffer_size=42).batch(curBatch_size)\n",
    "   \n",
    "    gradHist, lossHist, wgtsHist = [], [], []                    \n",
    "    \n",
    "    for epoch in range(n_epochs):\n",
    "        print(f'== Starting epoch {epoch} ==')        \n",
    "        for step, (x_batch, y_batch) in enumerate(subData):\n",
    "            with tf.GradientTape() as tape:\n",
    "                yPred = model(x_batch, training=True)\n",
    "                lossVal = lossFunc(y_batch, yPred)\n",
    "                \n",
    "            grads = tape.gradient(lossVal, model.trainable_weights)\n",
    "            wgts = model.trainable_weights\n",
    "            optimizer.apply_gradients(zip(grads, model.trainable_weights))           \n",
    "            \n",
    "            if step == 5:\n",
    "                getBatchGradWgts(gradHist=gradHist, lossHist=lossHist, wgtsHist=wgtsHist, \n",
    "                                  grads=grads, wgts=wgts, lossVal=lossVal, npt_exp=npt_exp) \n",
    "                if npt_exp:\n",
    "                    npt_exp['BatchLoss'].log(lossVal)   \n",
    "                    \n",
    "    getBatchGradWgts(gradHist=gradHist, lossHist=lossHist, wgtsHist=wgtsHist, \n",
    "                      grads=grads, wgts=wgts, lossVal=lossVal, npt_exp=npt_exp)    \n",
    "    return gradHist, lossHist, wgtsHist\n",
    "\n",
    "\n",
    "\n",
    "def gradientsVis(curGradHist, curLossHist, modelName):    \n",
    "    fig, ax = plt.subplots(1, 1, sharex=True, constrained_layout=True, figsize=(7,5))\n",
    "    ax.set_title(f\"Mean gradient Simple RNN\")\n",
    "    for layer in curGradHist[0]:\n",
    "        ax.plot(range(len(curGradHist)), [gradList[layer].mean() for gradList in curGradHist], label=f'Layer_{layer.upper()}')\n",
    "    ax.legend()\n",
    "    return fig\n"
   ]
  },
  {
   "cell_type": "code",
   "execution_count": 6,
   "id": "abd1946d-3875-411c-b8b0-47cf039dec69",
   "metadata": {},
   "outputs": [
    {
     "name": "stdout",
     "output_type": "stream",
     "text": [
      "https://app.neptune.ai/aligator/RNN/e/RNN-10\n",
      "Remember to stop your run once you’ve finished logging your metadata (https://docs.neptune.ai/api/run#stop). It will be stopped automatically only when the notebook kernel/interactive console is terminated.\n",
      "Build model...\n",
      "Train...\n",
      "== Starting epoch 0 ==\n"
     ]
    },
    {
     "name": "stderr",
     "output_type": "stream",
     "text": [
      "2022-12-24 03:30:38.661804: W tensorflow/compiler/xla/stream_executor/platform/default/dso_loader.cc:64] Could not load dynamic library 'libcuda.so.1'; dlerror: libcuda.so.1: cannot open shared object file: No such file or directory\n",
      "2022-12-24 03:30:38.661834: W tensorflow/compiler/xla/stream_executor/cuda/cuda_driver.cc:265] failed call to cuInit: UNKNOWN ERROR (303)\n",
      "2022-12-24 03:30:38.661862: I tensorflow/compiler/xla/stream_executor/cuda/cuda_diagnostics.cc:156] kernel driver does not appear to be running on this host (archlinux): /proc/driver/nvidia/version does not exist\n",
      "2022-12-24 03:30:38.662223: I tensorflow/core/platform/cpu_feature_guard.cc:193] This TensorFlow binary is optimized with oneAPI Deep Neural Network Library (oneDNN) to use the following CPU instructions in performance-critical operations:  AVX2 AVX512F AVX512_VNNI FMA\n",
      "To enable them in other operations, rebuild TensorFlow with the appropriate compiler flags.\n"
     ]
    },
    {
     "name": "stdout",
     "output_type": "stream",
     "text": [
      "Shutting down background jobs, please wait a moment...\n",
      "Done!\n",
      "Waiting for the remaining 8 operations to synchronize with Neptune. Do not kill this process.\n",
      "All 8 operations synced, thanks for waiting!\n",
      "Explore the metadata in the Neptune app:\n",
      "https://app.neptune.ai/aligator/RNN/e/RNN-10\n"
     ]
    },
    {
     "data": {
      "image/png": "[encoded data removed]",
      "text/plain": [
       "<Figure size 700x500 with 1 Axes>"
      ]
     },
     "metadata": {},
     "output_type": "display_data"
    }
   ],
   "source": [
    "from neptune.new.integrations.tensorflow_keras import NeptuneCallback\n",
    "npt_exp = neptune.init(    \n",
    "    api_token=\"eyJhcGlfYWRkcmVzcyI6Imh0dHBzOi8vYXBwLm5lcHR1bmUuYWkiLCJhcGlfdXJsIjoiaHR0cHM6Ly9hcHAubmVwdHVuZS5haSIsImFwaV9rZXkiOiIzOTM1NWZiMC05OTkwLTRlNmQtOTcxMi05ODc5NWIwZGRiMTkifQ==\",\n",
    "    project=myProject, \n",
    "    name='SimpleRNN', \n",
    "    tags=['vanishingGradients'])\n",
    "print('Build model...')\n",
    "model = Sequential()\n",
    "model.add(Embedding(max_features, 128, input_length=maxlen,name=\"layer1\"))\n",
    "model.add(SimpleRNN(128, name=\"layer2\"))  \n",
    "model.add(Dropout(0.5, name=\"layer3\"))\n",
    "model.add(Dense(1,name=\"layer4\"))\n",
    "model.add(Activation('sigmoid', name=\"layer5\"))\n",
    "\n",
    "# try using different optimizers and different optimizer configs\n",
    "model.compile(loss='binary_crossentropy', optimizer='adam')\n",
    "opt = Adam(learning_rate=0.01)\n",
    "print(\"Train...\")\n",
    "#model.fit(X_train, y_train, batch_size=batch_size, epochs=1, \n",
    "          #validation_data=(X_test, y_test))\n",
    "curGradHist, curLossHist, curWgtHist = fitModel(X_test, y_test, model, optimizer=opt, npt_exp=npt_exp)\n",
    "npt_exp['Comparing All Layers'].upload(neptune.types.File.as_image(gradientsVis(curGradHist, curLossHist, \n",
    "                                                                                    modelName='Sigmoid_Raw')))\n",
    "npt_exp.stop()"
   ]
  },
  {
   "cell_type": "code",
   "execution_count": null,
   "id": "68876361-21cb-4582-8da0-65585c3b3810",
   "metadata": {},
   "outputs": [],
   "source": []
  }
 ],
 "metadata": {
  "kernelspec": {
   "display_name": "Python 3 (ipykernel)",
   "language": "python",
   "name": "python3"
  },
  "language_info": {
   "codemirror_mode": {
    "name": "ipython",
    "version": 3
   },
   "file_extension": ".py",
   "mimetype": "text/x-python",
   "name": "python",
   "nbconvert_exporter": "python",
   "pygments_lexer": "ipython3",
   "version": "3.10.8"
  }
 },
 "nbformat": 4,
 "nbformat_minor": 5
}
