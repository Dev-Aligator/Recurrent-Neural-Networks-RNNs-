{
 "cells": [
  {
   "cell_type": "code",
   "execution_count": 1,
   "id": "792b3038-99d9-499d-9b02-6adf378755c9",
   "metadata": {},
   "outputs": [
    {
     "name": "stderr",
     "output_type": "stream",
     "text": [
      "/tmp/ipykernel_1638/2768557309.py:3: NeptuneDeprecationWarning: `init` is deprecated, use `init_run` instead. We'll end support of it in `neptune-client==1.0.0`.\n",
      "  project = neptune.init(api_token=\"eyJhcGlfYWRkcmVzcyI6Imh0dHBzOi8vYXBwLm5lcHR1bmUuYWkiLCJhcGlfdXJsIjoiaHR0cHM6Ly9hcHAubmVwdHVuZS5haSIsImFwaV9rZXkiOiIzOTM1NWZiMC05OTkwLTRlNmQtOTcxMi05ODc5NWIwZGRiMTkifQ==\",\n"
     ]
    },
    {
     "name": "stdout",
     "output_type": "stream",
     "text": [
      "https://app.neptune.ai/aligator/RNN/e/RNN-52\n"
     ]
    },
    {
     "name": "stderr",
     "output_type": "stream",
     "text": [
      "Info (NVML): NVML Shared Library Not Found. GPU usage metrics may not be reported. For more information, see https://docs.neptune.ai/help/nvml_error/\n"
     ]
    },
    {
     "name": "stdout",
     "output_type": "stream",
     "text": [
      "Remember to stop your run once you’ve finished logging your metadata (https://docs.neptune.ai/api/run#stop). It will be stopped automatically only when the notebook kernel/interactive console is terminated.\n",
      "Shutting down background jobs, please wait a moment...\n",
      "Done!\n",
      "Waiting for the remaining 9 operations to synchronize with Neptune. Do not kill this process.\n",
      "All 9 operations synced, thanks for waiting!\n",
      "Explore the metadata in the Neptune app:\n",
      "https://app.neptune.ai/aligator/RNN/e/RNN-52\n"
     ]
    }
   ],
   "source": [
    "import neptune.new as neptune\n",
    "myProject = 'aligator/RNN'\n",
    "project = neptune.init(api_token=\"eyJhcGlfYWRkcmVzcyI6Imh0dHBzOi8vYXBwLm5lcHR1bmUuYWkiLCJhcGlfdXJsIjoiaHR0cHM6Ly9hcHAubmVwdHVuZS5haSIsImFwaV9rZXkiOiIzOTM1NWZiMC05OTkwLTRlNmQtOTcxMi05ODc5NWIwZGRiMTkifQ==\",\n",
    "                        project=myProject) \n",
    "project.stop()\n"
   ]
  },
  {
   "cell_type": "code",
   "execution_count": 2,
   "id": "f2084e3c-acb0-4de0-bee1-d3f6ebc60113",
   "metadata": {},
   "outputs": [
    {
     "name": "stderr",
     "output_type": "stream",
     "text": [
      "2022-12-27 07:30:28.381426: I tensorflow/core/platform/cpu_feature_guard.cc:193] This TensorFlow binary is optimized with oneAPI Deep Neural Network Library (oneDNN) to use the following CPU instructions in performance-critical operations:  AVX2 AVX512F AVX512_VNNI FMA\n",
      "To enable them in other operations, rebuild TensorFlow with the appropriate compiler flags.\n",
      "2022-12-27 07:30:28.449491: I tensorflow/core/util/port.cc:104] oneDNN custom operations are on. You may see slightly different numerical results due to floating-point round-off errors from different computation orders. To turn them off, set the environment variable `TF_ENABLE_ONEDNN_OPTS=0`.\n",
      "2022-12-27 07:30:28.451740: W tensorflow/compiler/xla/stream_executor/platform/default/dso_loader.cc:64] Could not load dynamic library 'libcudart.so.11.0'; dlerror: libcudart.so.11.0: cannot open shared object file: No such file or directory\n",
      "2022-12-27 07:30:28.451750: I tensorflow/compiler/xla/stream_executor/cuda/cudart_stub.cc:29] Ignore above cudart dlerror if you do not have a GPU set up on your machine.\n",
      "2022-12-27 07:30:28.914803: W tensorflow/compiler/xla/stream_executor/platform/default/dso_loader.cc:64] Could not load dynamic library 'libnvinfer.so.7'; dlerror: libnvinfer.so.7: cannot open shared object file: No such file or directory\n",
      "2022-12-27 07:30:28.914861: W tensorflow/compiler/xla/stream_executor/platform/default/dso_loader.cc:64] Could not load dynamic library 'libnvinfer_plugin.so.7'; dlerror: libnvinfer_plugin.so.7: cannot open shared object file: No such file or directory\n",
      "2022-12-27 07:30:28.914865: W tensorflow/compiler/tf2tensorrt/utils/py_utils.cc:38] TF-TRT Warning: Cannot dlopen some TensorRT libraries. If you would like to use Nvidia GPU with TensorRT, please make sure the missing libraries mentioned above are installed properly.\n"
     ]
    }
   ],
   "source": [
    "import numpy as np\n",
    "import pandas as pd\n",
    "import matplotlib.pyplot as plt\n",
    "import tensorflow as tf\n",
    "\n",
    "from tensorflow.keras.layers import LSTM, GRU, SimpleRNN\n",
    "from tensorflow.keras.layers import Dense, Dropout, Activation, Flatten\n",
    "from tensorflow.keras.datasets import imdb\n",
    "from tensorflow.keras.datasets import mnist\n",
    "from tensorflow.keras.preprocessing import sequence\n",
    "from tensorflow.keras.models import Sequential\n",
    "from tensorflow.keras.layers import Embedding\n",
    "from tensorflow.keras.optimizers import Adam"
   ]
  },
  {
   "cell_type": "code",
   "execution_count": 3,
   "id": "17a37ffb-9307-46cf-b75a-43b93ede2cbd",
   "metadata": {},
   "outputs": [
    {
     "name": "stdout",
     "output_type": "stream",
     "text": [
      "Loading data...\n",
      "25000 train sequences\n",
      "25000 test sequences\n",
      "Example:\n",
      "[list([1, 14, 22, 16, 43, 530, 973, 1622, 1385, 65, 458, 4468, 66, 3941, 4, 173, 36, 256, 5, 25, 100, 43, 838, 112, 50, 670, 2, 9, 35, 480, 284, 5, 150, 4, 172, 112, 167, 2, 336, 385, 39, 4, 172, 4536, 1111, 17, 546, 38, 13, 447, 4, 192, 50, 16, 6, 147, 2025, 19, 14, 22, 4, 1920, 4613, 469, 4, 22, 71, 87, 12, 16, 43, 530, 38, 76, 15, 13, 1247, 4, 22, 17, 515, 17, 12, 16, 626, 18, 19193, 5, 62, 386, 12, 8, 316, 8, 106, 5, 4, 2223, 5244, 16, 480, 66, 3785, 33, 4, 130, 12, 16, 38, 619, 5, 25, 124, 51, 36, 135, 48, 25, 1415, 33, 6, 22, 12, 215, 28, 77, 52, 5, 14, 407, 16, 82, 10311, 8, 4, 107, 117, 5952, 15, 256, 4, 2, 7, 3766, 5, 723, 36, 71, 43, 530, 476, 26, 400, 317, 46, 7, 4, 12118, 1029, 13, 104, 88, 4, 381, 15, 297, 98, 32, 2071, 56, 26, 141, 6, 194, 7486, 18, 4, 226, 22, 21, 134, 476, 26, 480, 5, 144, 30, 5535, 18, 51, 36, 28, 224, 92, 25, 104, 4, 226, 65, 16, 38, 1334, 88, 12, 16, 283, 5, 16, 4472, 113, 103, 32, 15, 16, 5345, 19, 178, 32])]\n",
      "Pad sequences (samples x time)\n",
      "X_train shape: (25000, 100)\n",
      "X_test shape: (25000, 100)\n"
     ]
    }
   ],
   "source": [
    "max_features = 20000\n",
    "maxlen = 100  \n",
    "batch_size = 2500\n",
    "n_epochs = 10\n",
    "print(\"Loading data...\")\n",
    "(X_train, y_train), (X_test, y_test) = imdb.load_data(num_words=max_features)\n",
    "print(len(X_train), 'train sequences')\n",
    "print(len(X_test), 'test sequences')\n",
    "\n",
    "print('Example:')\n",
    "print(X_train[:1])\n",
    "\n",
    "print(\"Pad sequences (samples x time)\")\n",
    "X_train = sequence.pad_sequences(X_train, maxlen=maxlen)\n",
    "X_test = sequence.pad_sequences(X_test, maxlen=maxlen)\n",
    "print('X_train shape:', X_train.shape)\n",
    "print('X_test shape:', X_test.shape)\n",
    "\n"
   ]
  },
  {
   "cell_type": "code",
   "execution_count": 4,
   "id": "81250d0f-4291-46b1-8394-4cf1688f6946",
   "metadata": {},
   "outputs": [],
   "source": [
    "def getBatchGradWgts(grads, wgts, lossVal,\n",
    "                      gradHist, lossHist, wgtsHist,\n",
    "                      recordWeight=True, npt_exp=None):\n",
    "    dataGrad, dataWeight = {}, {}\n",
    "    ## batch update 'weights'\n",
    "    for wgt, grad in zip(wgts, grads):\n",
    "        if '/kernel:' not in wgt.name:\n",
    "            continue\n",
    "        layerName = wgt.name.split(\"/\")[0]\n",
    "        dataGrad[layerName] = grad.numpy()\n",
    "        dataWeight[layerName] = wgt.numpy()\n",
    "        ## Log in Neptune\n",
    "        if npt_exp:\n",
    "            npt_exp[f'MeanGrads{layerName.upper()}'].log(np.mean(grad.numpy()))\n",
    "            npt_exp[f'MeanWgtBatch{layerName.upper()}'].log(np.mean(wgt.numpy()))\n",
    "\n",
    "    gradHist.append(dataGrad)\n",
    "    lossHist.append(lossVal.numpy())\n",
    "    if recordWeight:\n",
    "        wgtsHist.append(dataWeight)\n"
   ]
  },
  {
   "cell_type": "code",
   "execution_count": 5,
   "id": "ce6438c5-9eb4-40e0-bd9b-d8d2d68337a0",
   "metadata": {},
   "outputs": [],
   "source": [
    "def fitModel(X, y, model, optimizer,\n",
    "              n_epochs=n_epochs, curBatch_size=batch_size, npt_exp=None):\n",
    "\n",
    "    lossFunc = tf.keras.losses.BinaryCrossentropy()\n",
    "    subData = tf.data.Dataset.from_tensor_slices((X, y))\n",
    "    subData = subData.shuffle(buffer_size=42).batch(curBatch_size)\n",
    "\n",
    "    gradHist, lossHist, wgtsHist = [], [], []\n",
    "\n",
    "    for epoch in range(n_epochs):\n",
    "        print(f'== Starting epoch {epoch} ==')\n",
    "        for step, (x_batch, y_batch) in enumerate(subData):\n",
    "            with tf.GradientTape() as tape:\n",
    "                ## Predict with the model and calculate loss\n",
    "                yPred = model(x_batch, training=True)\n",
    "                lossVal = lossFunc(y_batch, yPred)\n",
    "\n",
    "            ## Calculate gradients using tape and update the weights\n",
    "            grads = tape.gradient(lossVal, model.trainable_weights)\n",
    "            wgts = model.trainable_weights\n",
    "            optimizer.apply_gradients(zip(grads, model.trainable_weights))\n",
    "\n",
    "            ## Save the Interaction#5 from each epoch\n",
    "            if step == 5:\n",
    "                getBatchGradWgts(gradHist=gradHist, lossHist=lossHist, wgtsHist=wgtsHist,\n",
    "                                 grads=grads, wgts=wgts, lossVal=lossVal, npt_exp=npt_exp)\n",
    "                if npt_exp:\n",
    "                    npt_exp['BatchLoss'].log(lossVal)\n",
    "\n",
    "    getBatchGradWgts(gradHist=gradHist, lossHist=lossHist, wgtsHist=wgtsHist,\n",
    "                     grads=grads, wgts=wgts, lossVal=lossVal, npt_exp=npt_exp)\n",
    "    return gradHist, lossHist, wgtsHist"
   ]
  },
  {
   "cell_type": "code",
   "execution_count": 6,
   "id": "acbe8d54-c0ba-4768-ae1f-21e96aeff093",
   "metadata": {},
   "outputs": [],
   "source": [
    "def gradientsVis(curGradHist, curLossHist, modelName):\n",
    "    fig, ax = plt.subplots(1, 1, sharex=True, constrained_layout=True, figsize=(7,5))\n",
    "    ax.set_title(f\"Mean gradient {modelName}\")\n",
    "    for layer in curGradHist[0]:\n",
    "        if layer == 'layer4':\n",
    "            ax.plot(range(len(curGradHist)), [gradList[layer].mean() for gradList in curGradHist], label=f'Layer_{\"Recurrent\"}')\n",
    "    ax.legend()\n",
    "    return fig"
   ]
  },
  {
   "cell_type": "code",
   "execution_count": 10,
   "id": "abd1946d-3875-411c-b8b0-47cf039dec69",
   "metadata": {},
   "outputs": [
    {
     "name": "stdout",
     "output_type": "stream",
     "text": [
      "https://app.neptune.ai/aligator/RNN/e/RNN-56\n",
      "Remember to stop your run once you’ve finished logging your metadata (https://docs.neptune.ai/api/run#stop). It will be stopped automatically only when the notebook kernel/interactive console is terminated.\n",
      "Build model...\n",
      "Train...\n",
      "== Starting epoch 0 ==\n",
      "== Starting epoch 1 ==\n",
      "== Starting epoch 2 ==\n",
      "== Starting epoch 3 ==\n",
      "== Starting epoch 4 ==\n",
      "== Starting epoch 5 ==\n",
      "== Starting epoch 6 ==\n",
      "== Starting epoch 7 ==\n",
      "== Starting epoch 8 ==\n",
      "== Starting epoch 9 ==\n",
      "Shutting down background jobs, please wait a moment...\n",
      "Done!\n",
      "Waiting for the remaining 6 operations to synchronize with Neptune. Do not kill this process.\n",
      "All 6 operations synced, thanks for waiting!\n",
      "Explore the metadata in the Neptune app:\n",
      "https://app.neptune.ai/aligator/RNN/e/RNN-56\n"
     ]
    },
    {
     "data": {
      "image/png": "[encoded data removed]",
      "text/plain": [
       "<Figure size 700x500 with 1 Axes>"
      ]
     },
     "metadata": {},
     "output_type": "display_data"
    }
   ],
   "source": [
    "from neptune.new.integrations.tensorflow_keras import NeptuneCallback\n",
    "npt_exp = neptune.init(    \n",
    "    api_token=\"eyJhcGlfYWRkcmVzcyI6Imh0dHBzOi8vYXBwLm5lcHR1bmUuYWkiLCJhcGlfdXJsIjoiaHR0cHM6Ly9hcHAubmVwdHVuZS5haSIsImFwaV9rZXkiOiIzOTM1NWZiMC05OTkwLTRlNmQtOTcxMi05ODc5NWIwZGRiMTkifQ==\",\n",
    "    project=myProject, \n",
    "    name='SimpleRNN', \n",
    "    tags=['vanishingGradients'])\n",
    "print('Build model...')\n",
    "model = Sequential()\n",
    "model.add(Embedding(max_features, 128, input_length=maxlen,name=\"layer1\"))\n",
    "model.add(SimpleRNN(128, activation='sigmoid',name=\"layer2\"))  \n",
    "model.add(Dropout(0.5, name=\"layer3\"))\n",
    "model.add(Dense(1,name=\"layer4\"))\n",
    "model.add(Activation('sigmoid', name=\"layer5\"))\n",
    "\n",
    "# try using different optimizers and different optimizer configs\n",
    "model.compile(loss='binary_crossentropy', optimizer='adam')\n",
    "opt = Adam(learning_rate=0.01)\n",
    "print(\"Train...\")\n",
    "#model.fit(X_train, y_train, batch_size=batch_size, epochs=1, \n",
    "          #validation_data=(X_test, y_test))\n",
    "curGradHist, curLossHist, curWgtHist = fitModel(X_test, y_test, model, optimizer=opt, npt_exp=npt_exp)\n",
    "npt_exp['Comparing All Layers'].upload(neptune.types.File.as_image(gradientsVis(curGradHist, curLossHist, \n",
    "                                                                                    modelName='Simple RNN')))\n",
    "npt_exp.stop()"
   ]
  },
  {
   "cell_type": "code",
   "execution_count": 11,
   "id": "68876361-21cb-4582-8da0-65585c3b3810",
   "metadata": {},
   "outputs": [
    {
     "name": "stdout",
     "output_type": "stream",
     "text": [
      "https://app.neptune.ai/aligator/RNN/e/RNN-57\n",
      "Remember to stop your run once you’ve finished logging your metadata (https://docs.neptune.ai/api/run#stop). It will be stopped automatically only when the notebook kernel/interactive console is terminated.\n",
      "Build model...\n",
      "Train...\n",
      "== Starting epoch 0 ==\n"
     ]
    },
    {
     "name": "stderr",
     "output_type": "stream",
     "text": [
      "Error occurred during asynchronous operation processing: Cannot log infinite or NaN value to attribute MeanWgtBatchDENSE_1\n",
      "Error occurred during asynchronous operation processing: Cannot log infinite or NaN value to attribute BatchLoss\n",
      "Error occurred during asynchronous operation processing: Cannot log infinite or NaN value to attribute MeanWgtBatchSIMPLE_RNN_1\n",
      "Error occurred during asynchronous operation processing: Cannot log infinite or NaN value to attribute MeanGradsSIMPLE_RNN_1\n",
      "Error occurred during asynchronous operation processing: Cannot log infinite or NaN value to attribute MeanGradsDENSE_1\n"
     ]
    },
    {
     "name": "stdout",
     "output_type": "stream",
     "text": [
      "== Starting epoch 1 ==\n",
      "== Starting epoch 2 ==\n"
     ]
    },
    {
     "name": "stderr",
     "output_type": "stream",
     "text": [
      "Error occurred during asynchronous operation processing: Cannot log infinite or NaN value to attribute MeanGradsSIMPLE_RNN_1\n",
      "Error occurred during asynchronous operation processing: Cannot log infinite or NaN value to attribute BatchLoss\n",
      "Error occurred during asynchronous operation processing: Cannot log infinite or NaN value to attribute MeanGradsDENSE_1\n",
      "Error occurred during asynchronous operation processing: Cannot log infinite or NaN value to attribute MeanWgtBatchSIMPLE_RNN_1\n",
      "Error occurred during asynchronous operation processing: Cannot log infinite or NaN value to attribute MeanWgtBatchDENSE_1\n"
     ]
    },
    {
     "name": "stdout",
     "output_type": "stream",
     "text": [
      "== Starting epoch 3 ==\n"
     ]
    },
    {
     "name": "stderr",
     "output_type": "stream",
     "text": [
      "Error occurred during asynchronous operation processing: Cannot log infinite or NaN value to attribute MeanWgtBatchDENSE_1\n",
      "Error occurred during asynchronous operation processing: Cannot log infinite or NaN value to attribute MeanGradsSIMPLE_RNN_1\n",
      "Error occurred during asynchronous operation processing: Cannot log infinite or NaN value to attribute BatchLoss\n",
      "Error occurred during asynchronous operation processing: Cannot log infinite or NaN value to attribute MeanWgtBatchSIMPLE_RNN_1\n",
      "Error occurred during asynchronous operation processing: Cannot log infinite or NaN value to attribute MeanGradsDENSE_1\n",
      "Error occurred during asynchronous operation processing: Cannot log infinite or NaN value to attribute MeanGradsDENSE_1\n",
      "Error occurred during asynchronous operation processing: Cannot log infinite or NaN value to attribute MeanGradsSIMPLE_RNN_1\n",
      "Error occurred during asynchronous operation processing: Cannot log infinite or NaN value to attribute BatchLoss\n",
      "Error occurred during asynchronous operation processing: Cannot log infinite or NaN value to attribute MeanWgtBatchSIMPLE_RNN_1\n",
      "Error occurred during asynchronous operation processing: Cannot log infinite or NaN value to attribute MeanWgtBatchDENSE_1\n"
     ]
    },
    {
     "name": "stdout",
     "output_type": "stream",
     "text": [
      "== Starting epoch 4 ==\n"
     ]
    },
    {
     "name": "stderr",
     "output_type": "stream",
     "text": [
      "Error occurred during asynchronous operation processing: Cannot log infinite or NaN value to attribute BatchLoss\n",
      "Error occurred during asynchronous operation processing: Cannot log infinite or NaN value to attribute MeanWgtBatchSIMPLE_RNN_1\n",
      "Error occurred during asynchronous operation processing: Cannot log infinite or NaN value to attribute MeanGradsSIMPLE_RNN_1\n",
      "Error occurred during asynchronous operation processing: Cannot log infinite or NaN value to attribute MeanGradsDENSE_1\n",
      "Error occurred during asynchronous operation processing: Cannot log infinite or NaN value to attribute MeanWgtBatchDENSE_1\n"
     ]
    },
    {
     "name": "stdout",
     "output_type": "stream",
     "text": [
      "== Starting epoch 5 ==\n",
      "== Starting epoch 6 ==\n"
     ]
    },
    {
     "name": "stderr",
     "output_type": "stream",
     "text": [
      "Error occurred during asynchronous operation processing: Cannot log infinite or NaN value to attribute MeanGradsSIMPLE_RNN_1\n",
      "Error occurred during asynchronous operation processing: Cannot log infinite or NaN value to attribute BatchLoss\n",
      "Error occurred during asynchronous operation processing: Cannot log infinite or NaN value to attribute MeanWgtBatchSIMPLE_RNN_1\n",
      "Error occurred during asynchronous operation processing: Cannot log infinite or NaN value to attribute MeanGradsDENSE_1\n",
      "Error occurred during asynchronous operation processing: Cannot log infinite or NaN value to attribute MeanWgtBatchDENSE_1\n",
      "Error occurred during asynchronous operation processing: Cannot log infinite or NaN value to attribute BatchLoss\n",
      "Error occurred during asynchronous operation processing: Cannot log infinite or NaN value to attribute MeanWgtBatchDENSE_1\n",
      "Error occurred during asynchronous operation processing: Cannot log infinite or NaN value to attribute MeanWgtBatchSIMPLE_RNN_1\n",
      "Error occurred during asynchronous operation processing: Cannot log infinite or NaN value to attribute MeanGradsDENSE_1\n",
      "Error occurred during asynchronous operation processing: Cannot log infinite or NaN value to attribute MeanGradsSIMPLE_RNN_1\n"
     ]
    },
    {
     "name": "stdout",
     "output_type": "stream",
     "text": [
      "== Starting epoch 7 ==\n"
     ]
    },
    {
     "name": "stderr",
     "output_type": "stream",
     "text": [
      "Error occurred during asynchronous operation processing: Cannot log infinite or NaN value to attribute BatchLoss\n",
      "Error occurred during asynchronous operation processing: Cannot log infinite or NaN value to attribute MeanGradsDENSE_1\n",
      "Error occurred during asynchronous operation processing: Cannot log infinite or NaN value to attribute MeanWgtBatchDENSE_1\n",
      "Error occurred during asynchronous operation processing: Cannot log infinite or NaN value to attribute MeanGradsSIMPLE_RNN_1\n",
      "Error occurred during asynchronous operation processing: Cannot log infinite or NaN value to attribute MeanWgtBatchSIMPLE_RNN_1\n"
     ]
    },
    {
     "name": "stdout",
     "output_type": "stream",
     "text": [
      "== Starting epoch 8 ==\n",
      "== Starting epoch 9 ==\n"
     ]
    },
    {
     "name": "stderr",
     "output_type": "stream",
     "text": [
      "Error occurred during asynchronous operation processing: Cannot log infinite or NaN value to attribute MeanWgtBatchDENSE_1\n",
      "Error occurred during asynchronous operation processing: Cannot log infinite or NaN value to attribute MeanGradsSIMPLE_RNN_1\n",
      "Error occurred during asynchronous operation processing: Cannot log infinite or NaN value to attribute MeanGradsDENSE_1\n",
      "Error occurred during asynchronous operation processing: Cannot log infinite or NaN value to attribute BatchLoss\n",
      "Error occurred during asynchronous operation processing: Cannot log infinite or NaN value to attribute MeanWgtBatchSIMPLE_RNN_1\n",
      "No artists with labels found to put in legend.  Note that artists whose label start with an underscore are ignored when legend() is called with no argument.\n"
     ]
    },
    {
     "name": "stdout",
     "output_type": "stream",
     "text": [
      "Shutting down background jobs, please wait a moment...\n",
      "Done!\n",
      "Waiting for the remaining 19 operations to synchronize with Neptune. Do not kill this process.\n"
     ]
    },
    {
     "name": "stderr",
     "output_type": "stream",
     "text": [
      "Error occurred during asynchronous operation processing: Cannot log infinite or NaN value to attribute MeanWgtBatchDENSE_1\n",
      "Error occurred during asynchronous operation processing: Cannot log infinite or NaN value to attribute BatchLoss\n",
      "Error occurred during asynchronous operation processing: Cannot log infinite or NaN value to attribute MeanGradsDENSE_1\n",
      "Error occurred during asynchronous operation processing: Cannot log infinite or NaN value to attribute MeanWgtBatchSIMPLE_RNN_1\n",
      "Error occurred during asynchronous operation processing: Cannot log infinite or NaN value to attribute MeanGradsSIMPLE_RNN_1\n"
     ]
    },
    {
     "name": "stdout",
     "output_type": "stream",
     "text": [
      "All 19 operations synced, thanks for waiting!\n",
      "Explore the metadata in the Neptune app:\n",
      "https://app.neptune.ai/aligator/RNN/e/RNN-57\n"
     ]
    },
    {
     "data": {
      "image/png": "[encoded data removed]",
      "text/plain": [
       "<Figure size 700x500 with 1 Axes>"
      ]
     },
     "metadata": {},
     "output_type": "display_data"
    }
   ],
   "source": [
    "# Exploding Gradient\n",
    "from neptune.new.integrations.tensorflow_keras import NeptuneCallback\n",
    "npt_exp = neptune.init(    \n",
    "    api_token=\"eyJhcGlfYWRkcmVzcyI6Imh0dHBzOi8vYXBwLm5lcHR1bmUuYWkiLCJhcGlfdXJsIjoiaHR0cHM6Ly9hcHAubmVwdHVuZS5haSIsImFwaV9rZXkiOiIzOTM1NWZiMC05OTkwLTRlNmQtOTcxMi05ODc5NWIwZGRiMTkifQ==\",\n",
    "    project=myProject, \n",
    "    name='SimpleRNN', \n",
    "    tags=['vanishingGradients'])\n",
    "\n",
    "print('Build model...')\n",
    "model = Sequential()\n",
    "model.add(Embedding(max_features, 128, input_length=maxlen))\n",
    "model.add(SimpleRNN(128, activation='relu'))  \n",
    "model.add(Dropout(0.2))\n",
    "model.add(Dense(1))\n",
    "model.add(Activation('sigmoid'))\n",
    "\n",
    "# try using different optimizers and different optimizer configs\n",
    "opt = Adam(learning_rate=0.5)\n",
    "model.compile(loss='mean_squared_error', optimizer=opt, metrics=['mse'])\n",
    "\n",
    "print(\"Train...\")\n",
    "curGradHist, curLossHist, curWgtHist = fitModel(X_test, y_test, model, optimizer=opt, npt_exp=npt_exp)\n",
    "npt_exp['Comparing All Layers'].upload(neptune.types.File.as_image(gradientsVis(curGradHist, curLossHist, \n",
    "                                                                                    modelName='Simple RNN')))\n",
    "npt_exp.stop()\n"
   ]
  },
  {
   "cell_type": "code",
   "execution_count": null,
   "id": "90a46704-ad6d-45df-99de-dff18e7888d3",
   "metadata": {},
   "outputs": [],
   "source": []
  }
 ],
 "metadata": {
  "kernelspec": {
   "display_name": "Python 3 (ipykernel)",
   "language": "python",
   "name": "python3"
  },
  "language_info": {
   "codemirror_mode": {
    "name": "ipython",
    "version": 3
   },
   "file_extension": ".py",
   "mimetype": "text/x-python",
   "name": "python",
   "nbconvert_exporter": "python",
   "pygments_lexer": "ipython3",
   "version": "3.10.8"
  }
 },
 "nbformat": 4,
 "nbformat_minor": 5
}
